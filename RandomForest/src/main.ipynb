{
 "metadata": {
  "name": "",
  "signature": "sha256:dd32f105d9080995d19a2fc0e288939faa3b57b7cb7bfd562bf5bdf49a609317"
 },
 "nbformat": 3,
 "nbformat_minor": 0,
 "worksheets": [
  {
   "cells": [
    {
     "cell_type": "markdown",
     "metadata": {},
     "source": [
      "#main2.ipynb\n",
      "init master and call split here"
     ]
    },
    {
     "cell_type": "code",
     "collapsed": false,
     "input": [
      "# from master import *\n",
      "# mymaster=master()\n",
      "# master.split(x,y,z)"
     ],
     "language": "python",
     "metadata": {},
     "outputs": []
    }
   ],
   "metadata": {}
  }
 ]
}